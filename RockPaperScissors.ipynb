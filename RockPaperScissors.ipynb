{
  "nbformat": 4,
  "nbformat_minor": 0,
  "metadata": {
    "colab": {
      "provenance": [],
      "authorship_tag": "ABX9TyPbCxKiGRb3XN7BmldppxsY",
      "include_colab_link": true
    },
    "kernelspec": {
      "name": "python3",
      "display_name": "Python 3"
    },
    "language_info": {
      "name": "python"
    }
  },
  "cells": [
    {
      "cell_type": "markdown",
      "metadata": {
        "id": "view-in-github",
        "colab_type": "text"
      },
      "source": [
        "<a href=\"https://colab.research.google.com/github/pranjalsinha1205/RockPaperScissors/blob/main/RockPaperScissors.ipynb\" target=\"_parent\"><img src=\"https://colab.research.google.com/assets/colab-badge.svg\" alt=\"Open In Colab\"/></a>"
      ]
    },
    {
      "cell_type": "code",
      "source": [
        "def game():\n",
        "  print(\"Use 'r' for Rock, 'p' for Paper, and 's' for Scissors\")\n",
        "  print(\"Input 'q' to quit the game\\n\")\n",
        "  import random\n",
        "  w = 0\n",
        "  l = 0\n",
        "  t = 0\n",
        "  moves = ('r','p','s')\n",
        "  while True:\n",
        "    try:\n",
        "      comp = random.choice(moves)\n",
        "      print(f'wins: {w}, losses: {l}, ties: {t}')\n",
        "      user = input(\"Your move? \").lower()\n",
        "      if user == 'r':\n",
        "        if comp == 'r':\n",
        "          t += 1\n",
        "          print(\"It's a tie\")\n",
        "        elif comp == 'p':\n",
        "          w += 1\n",
        "          print(\"You win!\")\n",
        "        elif comp == 's':\n",
        "          l += 1\n",
        "          print(\"You lose\")\n",
        "      elif user == 'p':\n",
        "        if comp == 'p':\n",
        "          t += 1\n",
        "          print(\"It's a tie\")\n",
        "        elif comp == 'r':\n",
        "          w += 1\n",
        "          print(\"You win!\")\n",
        "        elif comp == 's':\n",
        "          l += 1\n",
        "          print(\"You lose\")\n",
        "      elif user == 's':\n",
        "        if comp == 's':\n",
        "          t += 1\n",
        "          print(\"It's a tie\")\n",
        "        elif comp == 'p':\n",
        "          w += 1\n",
        "          print(\"You win!\")\n",
        "        elif comp == 'r':\n",
        "          l += 1\n",
        "          print(\"You lose\")\n",
        "      elif user == 'q':\n",
        "        print(f'Your final score, wins: {w}, losses: {l}, ties: {t}')\n",
        "        return 'Game over!'\n",
        "      else:\n",
        "        print(\"Wrong input! Try again!\")\n",
        "    except ValueError:\n",
        "      print('Only characters allowed!')"
      ],
      "metadata": {
        "id": "xhj-dcd1inpf"
      },
      "execution_count": 14,
      "outputs": []
    }
  ]
}